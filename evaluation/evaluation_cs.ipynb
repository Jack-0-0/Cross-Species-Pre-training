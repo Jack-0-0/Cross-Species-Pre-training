{
 "cells": [
  {
   "cell_type": "code",
   "execution_count": 1,
   "metadata": {
    "scrolled": false
   },
   "outputs": [
    {
     "name": "stderr",
     "output_type": "stream",
     "text": [
      "Using TensorFlow backend.\n"
     ]
    }
   ],
   "source": [
    "import numpy as np\n",
    "from keras.models import load_model\n",
    "import matplotlib.pyplot as plt\n",
    "import matplotlib\n",
    "from sklearn.metrics import roc_curve, auc"
   ]
  },
  {
   "cell_type": "code",
   "execution_count": 12,
   "metadata": {},
   "outputs": [],
   "source": [
    "# set path for hyena training data\n",
    "train = np.load('hyena_train.npy', allow_pickle=True)\n",
    "\n",
    "# set path for laughter data for scaling\n",
    "train_ch = np.load('ch_train_6_6_64_ds.npy', allow_pickle=True)\n",
    "train_de = np.load('de_train_6_6_64_ds.npy', allow_pickle=True)\n",
    "train_en = np.load('en_train_6_6_64_ds.npy', allow_pickle=True)\n",
    "\n",
    "# set path to test data\n",
    "test = np.load('/import/c4dm-04/jackr/hyena_test_wnegs.npy', allow_pickle=True)\n",
    "\n",
    "# set paths to models\n",
    "baseline_model = load_model('baseline_nonorm.h5')\n",
    "unfrozen_model = load_model('unfrozen_nonorm.h5')\n",
    "frozen_model = load_model('frozen_nonorm.h5')"
   ]
  },
  {
   "cell_type": "code",
   "execution_count": 3,
   "metadata": {},
   "outputs": [],
   "source": [
    "def reformat(dataset):\n",
    "    \"\"\"Reformat data into suitable format.\n",
    "    \n",
    "    # Arguments\n",
    "        dataset: dataset in format (id, spectro, label)\n",
    "        \n",
    "    # Returns\n",
    "        x: spectros in format (n, timesteps, mel bands, 1)\n",
    "        y: labels in format (n, timesteps, 1)\n",
    "    \"\"\"\n",
    "    x = dataset[:, 1] \n",
    "    x = np.stack(x) # reshape to (n, mel bands, timesteps)\n",
    "    x = np.expand_dims(np.moveaxis(x, 1, -1), axis=3) # reformat x to (n, timesteps, mel bands, 1)  \n",
    "    y = dataset[:, 2] \n",
    "    y = np.moveaxis(np.stack(y), 1, -1) # reformat y to (n, timesteps, 8)\n",
    "    return x, y"
   ]
  },
  {
   "cell_type": "code",
   "execution_count": 14,
   "metadata": {},
   "outputs": [],
   "source": [
    "def plot_ROC(model, x, y):\n",
    "    \"\"\"Plot the ROC with AUC.\n",
    "    \n",
    "    # Arguments\n",
    "        model: model after training.\n",
    "        x: inputs to the network for testing.\n",
    "        y: actual outputs for testing.\n",
    "        \n",
    "    # Output\n",
    "        plot of ROC.\n",
    "    \"\"\" \n",
    "    predicted = model.predict(x).ravel()\n",
    "    actual = y.ravel()\n",
    "    fpr, tpr, thresholds = roc_curve(actual, predicted, pos_label=None)\n",
    "    roc_auc = auc(fpr, tpr)\n",
    "    plt.title('Test ROC AUC')\n",
    "    plt.plot(fpr, tpr, 'b', label='AUC = %0.3f' % roc_auc)\n",
    "    plt.legend(loc='lower right')\n",
    "    plt.plot([0,1],[0,1],'r--')\n",
    "    plt.xlim([0.0,1.0])\n",
    "    plt.ylim([0.0,1.0])\n",
    "    plt.ylabel('True Positive Rate')\n",
    "    plt.xlabel('False Positive Rate')\n",
    "    plt.show()\n",
    "\n",
    "    \n",
    "def scale(original_train, new_train):\n",
    "    \"\"\"Find value to scale by, based on magnitudes.\n",
    "    \n",
    "    # Arguments\n",
    "        original: data that was used to originally train the network.\n",
    "        new_train: data that will be used to fine tune network.\n",
    "    \n",
    "    # Returns\n",
    "        value to use to scale.\n",
    "    \"\"\"\n",
    "    # find magnitude original training data\n",
    "    o_mag = np.linalg.norm(np.stack(original_train[:, 1]))\n",
    "    # find magnitude new data\n",
    "    n_mag = np.linalg.norm(np.stack(new_train[:, 1]))\n",
    "    # scale new data\n",
    "    scale = o_mag / n_mag\n",
    "    return scale"
   ]
  },
  {
   "cell_type": "code",
   "execution_count": 5,
   "metadata": {},
   "outputs": [],
   "source": [
    "# reformat test data\n",
    "x_test, y_test = reformat(test)\n",
    "# reduce mel bands\n",
    "x_test = x_test[:, :, :45, :]"
   ]
  },
  {
   "cell_type": "code",
   "execution_count": null,
   "metadata": {},
   "outputs": [],
   "source": [
    "# baseline\n",
    "plot_ROC(baseline_model, x_test, y_test)"
   ]
  },
  {
   "cell_type": "code",
   "execution_count": 15,
   "metadata": {},
   "outputs": [],
   "source": [
    "# scale data\n",
    "human_pretrain = np.vstack((train_ch, train_de))\n",
    "human_pretrain = np.vstack((human_pretrain, train_en))\n",
    "scale = scale(human_pretrain, train)\n",
    "x_test = x_test * scale"
   ]
  },
  {
   "cell_type": "code",
   "execution_count": null,
   "metadata": {},
   "outputs": [],
   "source": [
    "# unfrozen\n",
    "plot_ROC(unfrozen_model, x_test, y_test)"
   ]
  },
  {
   "cell_type": "code",
   "execution_count": null,
   "metadata": {},
   "outputs": [],
   "source": [
    "# frozen\n",
    "plot_ROC(frozen_model, x_test, y_test)"
   ]
  }
 ],
 "metadata": {
  "kernelspec": {
   "display_name": "Python 3",
   "language": "python",
   "name": "python3"
  },
  "language_info": {
   "codemirror_mode": {
    "name": "ipython",
    "version": 3
   },
   "file_extension": ".py",
   "mimetype": "text/x-python",
   "name": "python",
   "nbconvert_exporter": "python",
   "pygments_lexer": "ipython3",
   "version": "3.6.8"
  }
 },
 "nbformat": 4,
 "nbformat_minor": 2
}
